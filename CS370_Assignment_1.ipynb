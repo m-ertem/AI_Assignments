{
  "nbformat": 4,
  "nbformat_minor": 0,
  "metadata": {
    "colab": {
      "provenance": []
    },
    "kernelspec": {
      "name": "python3",
      "display_name": "Python 3"
    },
    "language_info": {
      "name": "python"
    }
  },
  "cells": [
    {
      "cell_type": "code",
      "execution_count": null,
      "metadata": {
        "id": "7Y9WthIKeeeu"
      },
      "outputs": [],
      "source": []
    },
    {
      "cell_type": "markdown",
      "source": [
        "<a href=\"https: //github.com/https://github.com/mskertem/AI_Assignments/tree/main/CS370_Assignment_1.ipynb\" target=\"_parent\"><img src=\"https: //colab. research. google. com/assets/\n",
        "colab-badge.svg\" alt=\"Open in Colab\"/></a>"
      ],
      "metadata": {
        "id": "aFHnqnLWfPNf"
      }
    }
  ]
}