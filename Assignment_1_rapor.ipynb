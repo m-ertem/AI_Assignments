{
 "cells": [
  {
   "attachments": {},
   "cell_type": "markdown",
   "metadata": {},
   "source": [
    "# Probability Assignment"
   ]
  },
  {
   "attachments": {},
   "cell_type": "markdown",
   "metadata": {},
   "source": [
    "To get full credit in this assignment you need to use `numpy`, `scipy` and `pandas` libraries. Sometimes you need to type equations - type equations in Latex math notation. To produce the plots you can use any plotting library you need.\n",
    "\n",
    "PS1: We run the assignment through chatGPT the questions and you will be referred to the Dean if we find that a robot answered your questions.\n",
    "\n",
    "PS2: We are also monitoring solution websites and we will take action against anyone that uploads this to a solution website."
   ]
  },
  {
   "attachments": {},
   "cell_type": "markdown",
   "metadata": {},
   "source": [
    "## Problem 1 (80 points)\n",
    "\n",
    "A surgeon analyzes surgical videos and models events that occur. He describes the problem statement in [here](https://thomasward.com/simulating-correlated-data/). Your job is to replicate the solution in Python and demonstrate your understanding of the steps performed by  including adequate explanation of the code in either markdown cells or inline to the code.  You can insert as many markdown or code cells you need to perform the analysis. \n",
    "\n",
    "\n",
    "## Question 1a (10 points)\n",
    "\n",
    "Write the code for generating the `gs` variable. This is the simplest random variable of the problem and can be generated independent of the others. "
   ]
  },
  {
   "cell_type": "code",
   "execution_count": null,
   "metadata": {},
   "outputs": [],
   "source": [
    "mu, sigma = 7.25, 0.875 #mean and variance values, in order to gloves sizes to be between 5.5-9\n",
    "gs = np.random.normal (mu, sigma, 10000) #generating 10000 gloves size samples"
   ]
  },
  {
   "cell_type": "markdown",
   "metadata": {},
   "source": [
    "## Question 1b (20 points)\n",
    "\n",
    "We have three variables, `ak`, `pp`, and `ptime`. Write the code for generating these variables from Multivate Gaussian distribution and replicate the associated plots. \n",
    "\n"
   ]
  },
  {
   "cell_type": "code",
   "execution_count": null,
   "metadata": {},
   "outputs": [],
   "source": [
    "mean = [0, 0, 0] #all variables have zero mean\n",
    "cov = [[1, 0.6, -0.9], [0.6, 1, -0.5], [-0.9, -0.5, 1]] #3x3 covariance matrix\n",
    "APT = np.random.multivariate_normal(mean, cov, 10000) #generating 10000 samples\n",
    "\n",
    "#observing some properties\n",
    "print(APT.mean) #mean matrix\n",
    "print(np.cov(APT.T)) #covariance matrix\n",
    "print(np.corrcoef(APT.T)) #correlation matrix\n",
    "\n",
    "# This is 3x3 plot of distribution, it barely shows the correlation between variables\n",
    "df = pd.DataFrame(APT, columns=['ak','pp','ptime']) #generating data frame\n",
    "axes = pd.plotting.scatter_matrix(df, alpha=1) #generating plot\n",
    "plt.tight_layout()\n",
    "plt.grid()\n",
    "plt.show()\n",
    "\n",
    "#Each of them is a normal distribution. For example ak,\n",
    "plt.hist(APT[:,0], bins=20)\n",
    "plt.grid()\n",
    "plt.show()"
   ]
  },
  {
   "cell_type": "markdown",
   "metadata": {},
   "source": [
    "## Question 1c (20 points)\n",
    "\n",
    "Perform the probability inrtegral transform and replicate the associated plots."
   ]
  },
  {
   "cell_type": "code",
   "execution_count": null,
   "metadata": {},
   "outputs": [],
   "source": [
    "U = norm.cdf(APT, loc=0, scale=1); #Applying CDF and obtaining uniform distribution\n",
    "#plotting for the first column of U, it is really uniform distribution!\n",
    "plt.hist(U[:,0], bins=20)\n",
    "plt.grid()\n",
    "plt.show()\n",
    "\n",
    "print(np.corrcoef(U.T)) #correlation matrix\n",
    "\n",
    "#This is 3x3 plot of distribution and it barely shows the correlation\n",
    "df = pd.DataFrame(U, columns=['ak','pp','ptime']) #generating data frame\n",
    "axes = pd.plotting.scatter_matrix(df, alpha=0.2) #generating plot\n",
    "plt.tight_layout()\n",
    "plt.grid()\n",
    "plt.show()\n"
   ]
  },
  {
   "cell_type": "markdown",
   "metadata": {},
   "source": [
    "## Question 1d (20 points)\n",
    "\n",
    "Perform the inverse transform sampling."
   ]
  },
  {
   "cell_type": "code",
   "execution_count": null,
   "metadata": {},
   "outputs": [],
   "source": [
    "#Making a poisson distribution with an average number of 5 air knots (ak)\n",
    "ak = poisson.ppf(U[:,0], 5) #Using first column of U  \n",
    "#Plotting          \n",
    "plt.hist(ak, bins=15) \n",
    "plt.grid()\n",
    "plt.show()\n",
    "\n",
    "# Making a poisson distribution with a mean of 15 passing point (pp)\n",
    "pp = poisson.ppf(U[:,1], 15) #Using second column of U\n",
    "                   \n",
    "plt.hist(pp, bins=15)\n",
    "plt.grid()\n",
    "plt.show()\n",
    "\n",
    "#Making a normal distribution with a mean of 120 and standart deviation of 30\n",
    "ptime = norm.ppf(U[:, 2], 120, 30) #Using third column of U\n",
    "\n",
    "plt.hist(ptime, range=(0,250), bins=20)\n",
    "plt.show()\n",
    "\n"
   ]
  },
  {
   "cell_type": "markdown",
   "metadata": {},
   "source": [
    "## Question 1e (10 points)\n",
    "\n",
    "Replicate the final plot showcasing the correlations between the variables.\n"
   ]
  },
  {
   "cell_type": "code",
   "execution_count": null,
   "metadata": {},
   "outputs": [],
   "source": [
    "#Checking correlations one by one\n",
    "print(np.corrcoef(ak, pp))\n",
    "print(np.corrcoef(ak, ptime))\n",
    "print(np.corrcoef(pp, ptime))\n",
    "print(np.corrcoef(gs, ak))\n",
    "print(np.corrcoef(gs, pp))\n",
    "print(np.corrcoef(gs, ptime))\n",
    "\n",
    "#Final plot\n",
    "data = {\"ak\": ak,\"pp\": pp,\"ptime\": ptime,\"gs\": gs} #Creating a data dictionary\n",
    "# This is a 4x4 plot of distribution\n",
    "df = pd.DataFrame(data, columns=['ak','pp','ptime','gs']) #Generating data frame\n",
    "axes = pd.plotting.scatter_matrix(df, alpha=0.2) #Plotting\n",
    "plt.tight_layout()\n",
    "plt.grid()\n",
    "plt.show()"
   ]
  },
  {
   "cell_type": "markdown",
   "metadata": {},
   "source": [
    "## Problem 2 (20 points)\n",
    "\n",
    "You now pretend that the $n=4$ dimensional data you generated in Problem 1 arrive sequentially one at a time (the co-called **online** learning setting). Introduce the index $i$ to represent the ith arriving data sample $\\mathbf x_i$. \n",
    "\n",
    "1. Write the expression of the *sample* correlation matrix (5 points)\n",
    "2. Write the expression of the sample correlation matrix that can be estimated recursively and plot the elements of the sample correlation matrix from $i=1$ to $i=100$ (15 points)"
   ]
  },
  {
   "cell_type": "code",
   "execution_count": null,
   "metadata": {},
   "outputs": [],
   "source": [
    "# We have ak, pp, ptime, gs each has 10000 samples. We need to receive them sequentially,\n",
    "# correlation matrix will be updated.\n",
    "#Each matrix actually is a base for prediction of the next step\n",
    "\n",
    "# We need to update data frame each time then compute correlation matrix again.\n",
    "\n",
    "for i in range(1,100):\n",
    "    #Update variables\n",
    "    aknew    = ak[0:i]\n",
    "    ppnew    = pp[0:i]\n",
    "    ptimenew = ptime[0:i]\n",
    "    gsnew    = gs[0:i]\n",
    "            \n",
    "    data = {\"ak\": aknew,\"pp\": ppnew,\"ptime\": ptimenew,\"gs\": gsnew} #Creating a data dictionary\n",
    "    df = pd.DataFrame(data, columns=['ak','pp','ptime','gs']) # This is 4x4 plot of distribution\n",
    "    print(df.corr()) #correlation matrix\n",
    "    plt.matshow(df.corr(), fignum = \"int\") #correlation matrix plot\n",
    "    time.sleep(1)"
   ]
  }
 ],
 "metadata": {
  "kernelspec": {
   "display_name": "Python 3.10.4 64-bit",
   "language": "python",
   "name": "python3"
  },
  "language_info": {
   "codemirror_mode": {
    "name": "ipython",
    "version": 3
   },
   "file_extension": ".py",
   "mimetype": "text/x-python",
   "name": "python",
   "nbconvert_exporter": "python",
   "pygments_lexer": "ipython3",
   "version": "3.10.6"
  },
  "orig_nbformat": 4,
  "vscode": {
   "interpreter": {
    "hash": "31f2aee4e71d21fbe5cf8b01ff0e069b9275f58929596ceb00d14d90e3e16cd6"
   }
  }
 },
 "nbformat": 4,
 "nbformat_minor": 2
}
